{
 "cells": [
  {
   "cell_type": "code",
   "execution_count": 1,
   "metadata": {},
   "outputs": [
    {
     "name": "stdout",
     "output_type": "stream",
     "text": [
      "Populating the interactive namespace from numpy and matplotlib\n"
     ]
    }
   ],
   "source": [
    "%pylab inline\n",
    "import pandas\n",
    "import seaborn"
   ]
  },
  {
   "cell_type": "markdown",
   "metadata": {},
   "source": [
    "# Load CSV file into memory"
   ]
  },
  {
   "cell_type": "code",
   "execution_count": 2,
   "metadata": {},
   "outputs": [],
   "source": [
    "data = pandas.read_csv('Desktop/uber-raw-data-apr14.txt')"
   ]
  },
  {
   "cell_type": "code",
   "execution_count": 3,
   "metadata": {},
   "outputs": [
    {
     "data": {
      "text/html": [
       "<div>\n",
       "<style scoped>\n",
       "    .dataframe tbody tr th:only-of-type {\n",
       "        vertical-align: middle;\n",
       "    }\n",
       "\n",
       "    .dataframe tbody tr th {\n",
       "        vertical-align: top;\n",
       "    }\n",
       "\n",
       "    .dataframe thead th {\n",
       "        text-align: right;\n",
       "    }\n",
       "</style>\n",
       "<table border=\"1\" class=\"dataframe\">\n",
       "  <thead>\n",
       "    <tr style=\"text-align: right;\">\n",
       "      <th></th>\n",
       "      <th>Date/Time</th>\n",
       "      <th>Lat</th>\n",
       "      <th>Lon</th>\n",
       "      <th>Base</th>\n",
       "    </tr>\n",
       "  </thead>\n",
       "  <tbody>\n",
       "    <tr>\n",
       "      <th>564511</th>\n",
       "      <td>4/30/2014 23:22:00</td>\n",
       "      <td>40.7640</td>\n",
       "      <td>-73.9744</td>\n",
       "      <td>B02764</td>\n",
       "    </tr>\n",
       "    <tr>\n",
       "      <th>564512</th>\n",
       "      <td>4/30/2014 23:26:00</td>\n",
       "      <td>40.7629</td>\n",
       "      <td>-73.9672</td>\n",
       "      <td>B02764</td>\n",
       "    </tr>\n",
       "    <tr>\n",
       "      <th>564513</th>\n",
       "      <td>4/30/2014 23:31:00</td>\n",
       "      <td>40.7443</td>\n",
       "      <td>-73.9889</td>\n",
       "      <td>B02764</td>\n",
       "    </tr>\n",
       "    <tr>\n",
       "      <th>564514</th>\n",
       "      <td>4/30/2014 23:32:00</td>\n",
       "      <td>40.6756</td>\n",
       "      <td>-73.9405</td>\n",
       "      <td>B02764</td>\n",
       "    </tr>\n",
       "    <tr>\n",
       "      <th>564515</th>\n",
       "      <td>4/30/2014 23:48:00</td>\n",
       "      <td>40.6880</td>\n",
       "      <td>-73.9608</td>\n",
       "      <td>B02764</td>\n",
       "    </tr>\n",
       "  </tbody>\n",
       "</table>\n",
       "</div>"
      ],
      "text/plain": [
       "                 Date/Time      Lat      Lon    Base\n",
       "564511  4/30/2014 23:22:00  40.7640 -73.9744  B02764\n",
       "564512  4/30/2014 23:26:00  40.7629 -73.9672  B02764\n",
       "564513  4/30/2014 23:31:00  40.7443 -73.9889  B02764\n",
       "564514  4/30/2014 23:32:00  40.6756 -73.9405  B02764\n",
       "564515  4/30/2014 23:48:00  40.6880 -73.9608  B02764"
      ]
     },
     "execution_count": 3,
     "metadata": {},
     "output_type": "execute_result"
    }
   ],
   "source": [
    "data.tail()"
   ]
  },
  {
   "cell_type": "code",
   "execution_count": 4,
   "metadata": {},
   "outputs": [
    {
     "data": {
      "text/html": [
       "<div>\n",
       "<style scoped>\n",
       "    .dataframe tbody tr th:only-of-type {\n",
       "        vertical-align: middle;\n",
       "    }\n",
       "\n",
       "    .dataframe tbody tr th {\n",
       "        vertical-align: top;\n",
       "    }\n",
       "\n",
       "    .dataframe thead th {\n",
       "        text-align: right;\n",
       "    }\n",
       "</style>\n",
       "<table border=\"1\" class=\"dataframe\">\n",
       "  <thead>\n",
       "    <tr style=\"text-align: right;\">\n",
       "      <th></th>\n",
       "      <th>Date/Time</th>\n",
       "      <th>Lat</th>\n",
       "      <th>Lon</th>\n",
       "      <th>Base</th>\n",
       "    </tr>\n",
       "  </thead>\n",
       "  <tbody>\n",
       "    <tr>\n",
       "      <th>564511</th>\n",
       "      <td>4/30/2014 23:22:00</td>\n",
       "      <td>40.7640</td>\n",
       "      <td>-73.9744</td>\n",
       "      <td>B02764</td>\n",
       "    </tr>\n",
       "    <tr>\n",
       "      <th>564512</th>\n",
       "      <td>4/30/2014 23:26:00</td>\n",
       "      <td>40.7629</td>\n",
       "      <td>-73.9672</td>\n",
       "      <td>B02764</td>\n",
       "    </tr>\n",
       "    <tr>\n",
       "      <th>564513</th>\n",
       "      <td>4/30/2014 23:31:00</td>\n",
       "      <td>40.7443</td>\n",
       "      <td>-73.9889</td>\n",
       "      <td>B02764</td>\n",
       "    </tr>\n",
       "    <tr>\n",
       "      <th>564514</th>\n",
       "      <td>4/30/2014 23:32:00</td>\n",
       "      <td>40.6756</td>\n",
       "      <td>-73.9405</td>\n",
       "      <td>B02764</td>\n",
       "    </tr>\n",
       "    <tr>\n",
       "      <th>564515</th>\n",
       "      <td>4/30/2014 23:48:00</td>\n",
       "      <td>40.6880</td>\n",
       "      <td>-73.9608</td>\n",
       "      <td>B02764</td>\n",
       "    </tr>\n",
       "  </tbody>\n",
       "</table>\n",
       "</div>"
      ],
      "text/plain": [
       "                 Date/Time      Lat      Lon    Base\n",
       "564511  4/30/2014 23:22:00  40.7640 -73.9744  B02764\n",
       "564512  4/30/2014 23:26:00  40.7629 -73.9672  B02764\n",
       "564513  4/30/2014 23:31:00  40.7443 -73.9889  B02764\n",
       "564514  4/30/2014 23:32:00  40.6756 -73.9405  B02764\n",
       "564515  4/30/2014 23:48:00  40.6880 -73.9608  B02764"
      ]
     },
     "execution_count": 4,
     "metadata": {},
     "output_type": "execute_result"
    }
   ],
   "source": [
    "data.tail()"
   ]
  },
  {
   "cell_type": "markdown",
   "metadata": {},
   "source": [
    "# Convert Date Time Format"
   ]
  },
  {
   "cell_type": "code",
   "execution_count": 6,
   "metadata": {},
   "outputs": [],
   "source": [
    "data['Date/Time'] = data['Date/Time'].map(pandas.to_datetime)"
   ]
  },
  {
   "cell_type": "code",
   "execution_count": 7,
   "metadata": {},
   "outputs": [
    {
     "name": "stdout",
     "output_type": "stream",
     "text": [
      "                 Date/Time      Lat      Lon    Base\n",
      "0      2014-04-01 00:11:00  40.7690 -73.9549  B02512\n",
      "1      2014-04-01 00:17:00  40.7267 -74.0345  B02512\n",
      "2      2014-04-01 00:21:00  40.7316 -73.9873  B02512\n",
      "3      2014-04-01 00:28:00  40.7588 -73.9776  B02512\n",
      "4      2014-04-01 00:33:00  40.7594 -73.9722  B02512\n",
      "5      2014-04-01 00:33:00  40.7383 -74.0403  B02512\n",
      "6      2014-04-01 00:39:00  40.7223 -73.9887  B02512\n",
      "7      2014-04-01 00:45:00  40.7620 -73.9790  B02512\n",
      "8      2014-04-01 00:55:00  40.7524 -73.9960  B02512\n",
      "9      2014-04-01 01:01:00  40.7575 -73.9846  B02512\n",
      "10     2014-04-01 01:19:00  40.7256 -73.9869  B02512\n",
      "11     2014-04-01 01:48:00  40.7591 -73.9684  B02512\n",
      "12     2014-04-01 01:49:00  40.7271 -73.9803  B02512\n",
      "13     2014-04-01 02:11:00  40.6463 -73.7896  B02512\n",
      "14     2014-04-01 02:25:00  40.7564 -73.9167  B02512\n",
      "15     2014-04-01 02:31:00  40.7666 -73.9531  B02512\n",
      "16     2014-04-01 02:43:00  40.7580 -73.9761  B02512\n",
      "17     2014-04-01 03:22:00  40.7238 -73.9821  B02512\n",
      "18     2014-04-01 03:35:00  40.7531 -74.0039  B02512\n",
      "19     2014-04-01 03:35:00  40.7389 -74.0393  B02512\n",
      "20     2014-04-01 03:41:00  40.7619 -73.9715  B02512\n",
      "21     2014-04-01 04:11:00  40.7530 -74.0042  B02512\n",
      "22     2014-04-01 04:15:00  40.6561 -73.9531  B02512\n",
      "23     2014-04-01 04:19:00  40.7250 -73.9844  B02512\n",
      "24     2014-04-01 04:20:00  40.6950 -74.1783  B02512\n",
      "25     2014-04-01 04:26:00  40.9859 -74.1578  B02512\n",
      "26     2014-04-01 04:27:00  40.6879 -74.1814  B02512\n",
      "27     2014-04-01 04:38:00  40.6878 -74.1816  B02512\n",
      "28     2014-04-01 04:47:00  40.7234 -73.9974  B02512\n",
      "29     2014-04-01 04:49:00  40.7336 -73.9900  B02512\n",
      "...                    ...      ...      ...     ...\n",
      "564486 2014-04-30 22:25:00  40.7342 -74.0101  B02764\n",
      "564487 2014-04-30 22:25:00  40.7412 -73.9792  B02764\n",
      "564488 2014-04-30 22:25:00  40.7633 -73.9867  B02764\n",
      "564489 2014-04-30 22:26:00  40.7549 -73.9845  B02764\n",
      "564490 2014-04-30 22:27:00  40.7210 -73.9850  B02764\n",
      "564491 2014-04-30 22:27:00  40.7025 -74.0127  B02764\n",
      "564492 2014-04-30 22:28:00  40.7568 -73.9848  B02764\n",
      "564493 2014-04-30 22:29:00  40.7446 -73.9837  B02764\n",
      "564494 2014-04-30 22:32:00  40.7013 -73.9367  B02764\n",
      "564495 2014-04-30 22:35:00  40.7213 -73.9948  B02764\n",
      "564496 2014-04-30 22:36:00  40.7587 -73.9723  B02764\n",
      "564497 2014-04-30 22:42:00  40.7325 -73.9969  B02764\n",
      "564498 2014-04-30 22:46:00  40.8152 -73.9433  B02764\n",
      "564499 2014-04-30 22:47:00  40.7643 -73.9868  B02764\n",
      "564500 2014-04-30 22:50:00  40.7650 -73.9773  B02764\n",
      "564501 2014-04-30 22:51:00  40.7436 -73.9848  B02764\n",
      "564502 2014-04-30 22:56:00  40.7313 -73.9940  B02764\n",
      "564503 2014-04-30 22:57:00  40.8007 -73.9565  B02764\n",
      "564504 2014-04-30 22:58:00  40.7603 -73.9870  B02764\n",
      "564505 2014-04-30 22:58:00  40.7419 -73.9866  B02764\n",
      "564506 2014-04-30 23:00:00  40.7316 -73.9891  B02764\n",
      "564507 2014-04-30 23:04:00  40.7267 -73.9937  B02764\n",
      "564508 2014-04-30 23:05:00  40.7788 -73.9600  B02764\n",
      "564509 2014-04-30 23:15:00  40.7420 -74.0037  B02764\n",
      "564510 2014-04-30 23:18:00  40.7514 -74.0066  B02764\n",
      "564511 2014-04-30 23:22:00  40.7640 -73.9744  B02764\n",
      "564512 2014-04-30 23:26:00  40.7629 -73.9672  B02764\n",
      "564513 2014-04-30 23:31:00  40.7443 -73.9889  B02764\n",
      "564514 2014-04-30 23:32:00  40.6756 -73.9405  B02764\n",
      "564515 2014-04-30 23:48:00  40.6880 -73.9608  B02764\n",
      "\n",
      "[564516 rows x 4 columns]\n"
     ]
    }
   ],
   "source": [
    "print(data)"
   ]
  },
  {
   "cell_type": "code",
   "execution_count": 8,
   "metadata": {},
   "outputs": [],
   "source": [
    "def get_dom(dt):\n",
    "    return dt.day\n",
    "data['dom'] = data['Date/Time'].map(get_dom)"
   ]
  },
  {
   "cell_type": "code",
   "execution_count": 9,
   "metadata": {},
   "outputs": [
    {
     "data": {
      "text/html": [
       "<div>\n",
       "<style scoped>\n",
       "    .dataframe tbody tr th:only-of-type {\n",
       "        vertical-align: middle;\n",
       "    }\n",
       "\n",
       "    .dataframe tbody tr th {\n",
       "        vertical-align: top;\n",
       "    }\n",
       "\n",
       "    .dataframe thead th {\n",
       "        text-align: right;\n",
       "    }\n",
       "</style>\n",
       "<table border=\"1\" class=\"dataframe\">\n",
       "  <thead>\n",
       "    <tr style=\"text-align: right;\">\n",
       "      <th></th>\n",
       "      <th>Date/Time</th>\n",
       "      <th>Lat</th>\n",
       "      <th>Lon</th>\n",
       "      <th>Base</th>\n",
       "      <th>dom</th>\n",
       "    </tr>\n",
       "  </thead>\n",
       "  <tbody>\n",
       "    <tr>\n",
       "      <th>564511</th>\n",
       "      <td>2014-04-30 23:22:00</td>\n",
       "      <td>40.7640</td>\n",
       "      <td>-73.9744</td>\n",
       "      <td>B02764</td>\n",
       "      <td>30</td>\n",
       "    </tr>\n",
       "    <tr>\n",
       "      <th>564512</th>\n",
       "      <td>2014-04-30 23:26:00</td>\n",
       "      <td>40.7629</td>\n",
       "      <td>-73.9672</td>\n",
       "      <td>B02764</td>\n",
       "      <td>30</td>\n",
       "    </tr>\n",
       "    <tr>\n",
       "      <th>564513</th>\n",
       "      <td>2014-04-30 23:31:00</td>\n",
       "      <td>40.7443</td>\n",
       "      <td>-73.9889</td>\n",
       "      <td>B02764</td>\n",
       "      <td>30</td>\n",
       "    </tr>\n",
       "    <tr>\n",
       "      <th>564514</th>\n",
       "      <td>2014-04-30 23:32:00</td>\n",
       "      <td>40.6756</td>\n",
       "      <td>-73.9405</td>\n",
       "      <td>B02764</td>\n",
       "      <td>30</td>\n",
       "    </tr>\n",
       "    <tr>\n",
       "      <th>564515</th>\n",
       "      <td>2014-04-30 23:48:00</td>\n",
       "      <td>40.6880</td>\n",
       "      <td>-73.9608</td>\n",
       "      <td>B02764</td>\n",
       "      <td>30</td>\n",
       "    </tr>\n",
       "  </tbody>\n",
       "</table>\n",
       "</div>"
      ],
      "text/plain": [
       "                 Date/Time      Lat      Lon    Base  dom\n",
       "564511 2014-04-30 23:22:00  40.7640 -73.9744  B02764   30\n",
       "564512 2014-04-30 23:26:00  40.7629 -73.9672  B02764   30\n",
       "564513 2014-04-30 23:31:00  40.7443 -73.9889  B02764   30\n",
       "564514 2014-04-30 23:32:00  40.6756 -73.9405  B02764   30\n",
       "564515 2014-04-30 23:48:00  40.6880 -73.9608  B02764   30"
      ]
     },
     "execution_count": 9,
     "metadata": {},
     "output_type": "execute_result"
    }
   ],
   "source": [
    "data.tail()"
   ]
  },
  {
   "cell_type": "code",
   "execution_count": 10,
   "metadata": {},
   "outputs": [],
   "source": [
    "def get_weekday(dt):\n",
    "    return dt.weekday()\n",
    "\n",
    "data['weekday'] = data['Date/Time'].map(get_weekday)\n",
    "\n",
    "def get_hour(dt):\n",
    "    return dt.hour\n",
    "data['Hour'] = data['Date/Time'].map(get_hour)\n"
   ]
  },
  {
   "cell_type": "code",
   "execution_count": 11,
   "metadata": {},
   "outputs": [
    {
     "data": {
      "text/html": [
       "<div>\n",
       "<style scoped>\n",
       "    .dataframe tbody tr th:only-of-type {\n",
       "        vertical-align: middle;\n",
       "    }\n",
       "\n",
       "    .dataframe tbody tr th {\n",
       "        vertical-align: top;\n",
       "    }\n",
       "\n",
       "    .dataframe thead th {\n",
       "        text-align: right;\n",
       "    }\n",
       "</style>\n",
       "<table border=\"1\" class=\"dataframe\">\n",
       "  <thead>\n",
       "    <tr style=\"text-align: right;\">\n",
       "      <th></th>\n",
       "      <th>Date/Time</th>\n",
       "      <th>Lat</th>\n",
       "      <th>Lon</th>\n",
       "      <th>Base</th>\n",
       "      <th>dom</th>\n",
       "      <th>weekday</th>\n",
       "      <th>Hour</th>\n",
       "    </tr>\n",
       "  </thead>\n",
       "  <tbody>\n",
       "    <tr>\n",
       "      <th>564511</th>\n",
       "      <td>2014-04-30 23:22:00</td>\n",
       "      <td>40.7640</td>\n",
       "      <td>-73.9744</td>\n",
       "      <td>B02764</td>\n",
       "      <td>30</td>\n",
       "      <td>2</td>\n",
       "      <td>23</td>\n",
       "    </tr>\n",
       "    <tr>\n",
       "      <th>564512</th>\n",
       "      <td>2014-04-30 23:26:00</td>\n",
       "      <td>40.7629</td>\n",
       "      <td>-73.9672</td>\n",
       "      <td>B02764</td>\n",
       "      <td>30</td>\n",
       "      <td>2</td>\n",
       "      <td>23</td>\n",
       "    </tr>\n",
       "    <tr>\n",
       "      <th>564513</th>\n",
       "      <td>2014-04-30 23:31:00</td>\n",
       "      <td>40.7443</td>\n",
       "      <td>-73.9889</td>\n",
       "      <td>B02764</td>\n",
       "      <td>30</td>\n",
       "      <td>2</td>\n",
       "      <td>23</td>\n",
       "    </tr>\n",
       "    <tr>\n",
       "      <th>564514</th>\n",
       "      <td>2014-04-30 23:32:00</td>\n",
       "      <td>40.6756</td>\n",
       "      <td>-73.9405</td>\n",
       "      <td>B02764</td>\n",
       "      <td>30</td>\n",
       "      <td>2</td>\n",
       "      <td>23</td>\n",
       "    </tr>\n",
       "    <tr>\n",
       "      <th>564515</th>\n",
       "      <td>2014-04-30 23:48:00</td>\n",
       "      <td>40.6880</td>\n",
       "      <td>-73.9608</td>\n",
       "      <td>B02764</td>\n",
       "      <td>30</td>\n",
       "      <td>2</td>\n",
       "      <td>23</td>\n",
       "    </tr>\n",
       "  </tbody>\n",
       "</table>\n",
       "</div>"
      ],
      "text/plain": [
       "                 Date/Time      Lat      Lon    Base  dom  weekday  Hour\n",
       "564511 2014-04-30 23:22:00  40.7640 -73.9744  B02764   30        2    23\n",
       "564512 2014-04-30 23:26:00  40.7629 -73.9672  B02764   30        2    23\n",
       "564513 2014-04-30 23:31:00  40.7443 -73.9889  B02764   30        2    23\n",
       "564514 2014-04-30 23:32:00  40.6756 -73.9405  B02764   30        2    23\n",
       "564515 2014-04-30 23:48:00  40.6880 -73.9608  B02764   30        2    23"
      ]
     },
     "execution_count": 11,
     "metadata": {},
     "output_type": "execute_result"
    }
   ],
   "source": [
    "data.tail()"
   ]
  },
  {
   "cell_type": "markdown",
   "metadata": {},
   "source": [
    "# Analysing DOM\n"
   ]
  },
  {
   "cell_type": "code",
   "execution_count": 12,
   "metadata": {},
   "outputs": [
    {
     "data": {
      "text/plain": [
       "Text(0.5,1,'Frequency by DOM-UBER-APR 2014')"
      ]
     },
     "execution_count": 12,
     "metadata": {},
     "output_type": "execute_result"
    },
    {
     "data": {
      "image/png": "[encoded data removed]",
      "text/plain": [
       "<Figure size 432x288 with 1 Axes>"
      ]
     },
     "metadata": {
      "needs_background": "light"
     },
     "output_type": "display_data"
    }
   ],
   "source": [
    "hist(data.dom, bins=30, rwidth=0.8, range=(0.5, 30.5))\n",
    "xlabel('Date of the Month')\n",
    "ylabel('Frequency')\n",
    "title('Frequency by DOM-UBER-APR 2014')"
   ]
  },
  {
   "cell_type": "code",
   "execution_count": 13,
   "metadata": {},
   "outputs": [
    {
     "data": {
      "text/html": [
       "<div>\n",
       "<style scoped>\n",
       "    .dataframe tbody tr th:only-of-type {\n",
       "        vertical-align: middle;\n",
       "    }\n",
       "\n",
       "    .dataframe tbody tr th {\n",
       "        vertical-align: top;\n",
       "    }\n",
       "\n",
       "    .dataframe thead th {\n",
       "        text-align: right;\n",
       "    }\n",
       "</style>\n",
       "<table border=\"1\" class=\"dataframe\">\n",
       "  <thead>\n",
       "    <tr style=\"text-align: right;\">\n",
       "      <th></th>\n",
       "      <th>Date/Time</th>\n",
       "      <th>Lat</th>\n",
       "      <th>Lon</th>\n",
       "      <th>Base</th>\n",
       "      <th>dom</th>\n",
       "      <th>weekday</th>\n",
       "      <th>Hour</th>\n",
       "    </tr>\n",
       "  </thead>\n",
       "  <tbody>\n",
       "    <tr>\n",
       "      <th>564511</th>\n",
       "      <td>2014-04-30 23:22:00</td>\n",
       "      <td>40.7640</td>\n",
       "      <td>-73.9744</td>\n",
       "      <td>B02764</td>\n",
       "      <td>30</td>\n",
       "      <td>2</td>\n",
       "      <td>23</td>\n",
       "    </tr>\n",
       "    <tr>\n",
       "      <th>564512</th>\n",
       "      <td>2014-04-30 23:26:00</td>\n",
       "      <td>40.7629</td>\n",
       "      <td>-73.9672</td>\n",
       "      <td>B02764</td>\n",
       "      <td>30</td>\n",
       "      <td>2</td>\n",
       "      <td>23</td>\n",
       "    </tr>\n",
       "    <tr>\n",
       "      <th>564513</th>\n",
       "      <td>2014-04-30 23:31:00</td>\n",
       "      <td>40.7443</td>\n",
       "      <td>-73.9889</td>\n",
       "      <td>B02764</td>\n",
       "      <td>30</td>\n",
       "      <td>2</td>\n",
       "      <td>23</td>\n",
       "    </tr>\n",
       "    <tr>\n",
       "      <th>564514</th>\n",
       "      <td>2014-04-30 23:32:00</td>\n",
       "      <td>40.6756</td>\n",
       "      <td>-73.9405</td>\n",
       "      <td>B02764</td>\n",
       "      <td>30</td>\n",
       "      <td>2</td>\n",
       "      <td>23</td>\n",
       "    </tr>\n",
       "    <tr>\n",
       "      <th>564515</th>\n",
       "      <td>2014-04-30 23:48:00</td>\n",
       "      <td>40.6880</td>\n",
       "      <td>-73.9608</td>\n",
       "      <td>B02764</td>\n",
       "      <td>30</td>\n",
       "      <td>2</td>\n",
       "      <td>23</td>\n",
       "    </tr>\n",
       "  </tbody>\n",
       "</table>\n",
       "</div>"
      ],
      "text/plain": [
       "                 Date/Time      Lat      Lon    Base  dom  weekday  Hour\n",
       "564511 2014-04-30 23:22:00  40.7640 -73.9744  B02764   30        2    23\n",
       "564512 2014-04-30 23:26:00  40.7629 -73.9672  B02764   30        2    23\n",
       "564513 2014-04-30 23:31:00  40.7443 -73.9889  B02764   30        2    23\n",
       "564514 2014-04-30 23:32:00  40.6756 -73.9405  B02764   30        2    23\n",
       "564515 2014-04-30 23:48:00  40.6880 -73.9608  B02764   30        2    23"
      ]
     },
     "execution_count": 13,
     "metadata": {},
     "output_type": "execute_result"
    }
   ],
   "source": [
    "data.tail()"
   ]
  },
  {
   "cell_type": "code",
   "execution_count": 14,
   "metadata": {},
   "outputs": [
    {
     "data": {
      "text/html": [
       "<div>\n",
       "<style scoped>\n",
       "    .dataframe tbody tr th:only-of-type {\n",
       "        vertical-align: middle;\n",
       "    }\n",
       "\n",
       "    .dataframe tbody tr th {\n",
       "        vertical-align: top;\n",
       "    }\n",
       "\n",
       "    .dataframe thead th {\n",
       "        text-align: right;\n",
       "    }\n",
       "</style>\n",
       "<table border=\"1\" class=\"dataframe\">\n",
       "  <thead>\n",
       "    <tr style=\"text-align: right;\">\n",
       "      <th></th>\n",
       "      <th>Date/Time</th>\n",
       "      <th>Lat</th>\n",
       "      <th>Lon</th>\n",
       "      <th>Base</th>\n",
       "      <th>dom</th>\n",
       "      <th>weekday</th>\n",
       "      <th>Hour</th>\n",
       "    </tr>\n",
       "  </thead>\n",
       "  <tbody>\n",
       "    <tr>\n",
       "      <th>0</th>\n",
       "      <td>2014-04-01 00:11:00</td>\n",
       "      <td>40.7690</td>\n",
       "      <td>-73.9549</td>\n",
       "      <td>B02512</td>\n",
       "      <td>1</td>\n",
       "      <td>1</td>\n",
       "      <td>0</td>\n",
       "    </tr>\n",
       "    <tr>\n",
       "      <th>1</th>\n",
       "      <td>2014-04-01 00:17:00</td>\n",
       "      <td>40.7267</td>\n",
       "      <td>-74.0345</td>\n",
       "      <td>B02512</td>\n",
       "      <td>1</td>\n",
       "      <td>1</td>\n",
       "      <td>0</td>\n",
       "    </tr>\n",
       "    <tr>\n",
       "      <th>2</th>\n",
       "      <td>2014-04-01 00:21:00</td>\n",
       "      <td>40.7316</td>\n",
       "      <td>-73.9873</td>\n",
       "      <td>B02512</td>\n",
       "      <td>1</td>\n",
       "      <td>1</td>\n",
       "      <td>0</td>\n",
       "    </tr>\n",
       "    <tr>\n",
       "      <th>3</th>\n",
       "      <td>2014-04-01 00:28:00</td>\n",
       "      <td>40.7588</td>\n",
       "      <td>-73.9776</td>\n",
       "      <td>B02512</td>\n",
       "      <td>1</td>\n",
       "      <td>1</td>\n",
       "      <td>0</td>\n",
       "    </tr>\n",
       "    <tr>\n",
       "      <th>4</th>\n",
       "      <td>2014-04-01 00:33:00</td>\n",
       "      <td>40.7594</td>\n",
       "      <td>-73.9722</td>\n",
       "      <td>B02512</td>\n",
       "      <td>1</td>\n",
       "      <td>1</td>\n",
       "      <td>0</td>\n",
       "    </tr>\n",
       "  </tbody>\n",
       "</table>\n",
       "</div>"
      ],
      "text/plain": [
       "            Date/Time      Lat      Lon    Base  dom  weekday  Hour\n",
       "0 2014-04-01 00:11:00  40.7690 -73.9549  B02512    1        1     0\n",
       "1 2014-04-01 00:17:00  40.7267 -74.0345  B02512    1        1     0\n",
       "2 2014-04-01 00:21:00  40.7316 -73.9873  B02512    1        1     0\n",
       "3 2014-04-01 00:28:00  40.7588 -73.9776  B02512    1        1     0\n",
       "4 2014-04-01 00:33:00  40.7594 -73.9722  B02512    1        1     0"
      ]
     },
     "execution_count": 14,
     "metadata": {},
     "output_type": "execute_result"
    }
   ],
   "source": [
    "data.head()"
   ]
  },
  {
   "cell_type": "code",
   "execution_count": 15,
   "metadata": {},
   "outputs": [
    {
     "name": "stdout",
     "output_type": "stream",
     "text": [
      "                 Date/Time      Lat      Lon    Base  dom  weekday  Hour\n",
      "0      2014-04-01 00:11:00  40.7690 -73.9549  B02512    1        1     0\n",
      "1      2014-04-01 00:17:00  40.7267 -74.0345  B02512    1        1     0\n",
      "2      2014-04-01 00:21:00  40.7316 -73.9873  B02512    1        1     0\n",
      "3      2014-04-01 00:28:00  40.7588 -73.9776  B02512    1        1     0\n",
      "4      2014-04-01 00:33:00  40.7594 -73.9722  B02512    1        1     0\n",
      "5      2014-04-01 00:33:00  40.7383 -74.0403  B02512    1        1     0\n",
      "6      2014-04-01 00:39:00  40.7223 -73.9887  B02512    1        1     0\n",
      "7      2014-04-01 00:45:00  40.7620 -73.9790  B02512    1        1     0\n",
      "8      2014-04-01 00:55:00  40.7524 -73.9960  B02512    1        1     0\n",
      "9      2014-04-01 01:01:00  40.7575 -73.9846  B02512    1        1     1\n",
      "10     2014-04-01 01:19:00  40.7256 -73.9869  B02512    1        1     1\n",
      "11     2014-04-01 01:48:00  40.7591 -73.9684  B02512    1        1     1\n",
      "12     2014-04-01 01:49:00  40.7271 -73.9803  B02512    1        1     1\n",
      "13     2014-04-01 02:11:00  40.6463 -73.7896  B02512    1        1     2\n",
      "14     2014-04-01 02:25:00  40.7564 -73.9167  B02512    1        1     2\n",
      "15     2014-04-01 02:31:00  40.7666 -73.9531  B02512    1        1     2\n",
      "16     2014-04-01 02:43:00  40.7580 -73.9761  B02512    1        1     2\n",
      "17     2014-04-01 03:22:00  40.7238 -73.9821  B02512    1        1     3\n",
      "18     2014-04-01 03:35:00  40.7531 -74.0039  B02512    1        1     3\n",
      "19     2014-04-01 03:35:00  40.7389 -74.0393  B02512    1        1     3\n",
      "20     2014-04-01 03:41:00  40.7619 -73.9715  B02512    1        1     3\n",
      "21     2014-04-01 04:11:00  40.7530 -74.0042  B02512    1        1     4\n",
      "22     2014-04-01 04:15:00  40.6561 -73.9531  B02512    1        1     4\n",
      "23     2014-04-01 04:19:00  40.7250 -73.9844  B02512    1        1     4\n",
      "24     2014-04-01 04:20:00  40.6950 -74.1783  B02512    1        1     4\n",
      "25     2014-04-01 04:26:00  40.9859 -74.1578  B02512    1        1     4\n",
      "26     2014-04-01 04:27:00  40.6879 -74.1814  B02512    1        1     4\n",
      "27     2014-04-01 04:38:00  40.6878 -74.1816  B02512    1        1     4\n",
      "28     2014-04-01 04:47:00  40.7234 -73.9974  B02512    1        1     4\n",
      "29     2014-04-01 04:49:00  40.7336 -73.9900  B02512    1        1     4\n",
      "...                    ...      ...      ...     ...  ...      ...   ...\n",
      "564486 2014-04-30 22:25:00  40.7342 -74.0101  B02764   30        2    22\n",
      "564487 2014-04-30 22:25:00  40.7412 -73.9792  B02764   30        2    22\n",
      "564488 2014-04-30 22:25:00  40.7633 -73.9867  B02764   30        2    22\n",
      "564489 2014-04-30 22:26:00  40.7549 -73.9845  B02764   30        2    22\n",
      "564490 2014-04-30 22:27:00  40.7210 -73.9850  B02764   30        2    22\n",
      "564491 2014-04-30 22:27:00  40.7025 -74.0127  B02764   30        2    22\n",
      "564492 2014-04-30 22:28:00  40.7568 -73.9848  B02764   30        2    22\n",
      "564493 2014-04-30 22:29:00  40.7446 -73.9837  B02764   30        2    22\n",
      "564494 2014-04-30 22:32:00  40.7013 -73.9367  B02764   30        2    22\n",
      "564495 2014-04-30 22:35:00  40.7213 -73.9948  B02764   30        2    22\n",
      "564496 2014-04-30 22:36:00  40.7587 -73.9723  B02764   30        2    22\n",
      "564497 2014-04-30 22:42:00  40.7325 -73.9969  B02764   30        2    22\n",
      "564498 2014-04-30 22:46:00  40.8152 -73.9433  B02764   30        2    22\n",
      "564499 2014-04-30 22:47:00  40.7643 -73.9868  B02764   30        2    22\n",
      "564500 2014-04-30 22:50:00  40.7650 -73.9773  B02764   30        2    22\n",
      "564501 2014-04-30 22:51:00  40.7436 -73.9848  B02764   30        2    22\n",
      "564502 2014-04-30 22:56:00  40.7313 -73.9940  B02764   30        2    22\n",
      "564503 2014-04-30 22:57:00  40.8007 -73.9565  B02764   30        2    22\n",
      "564504 2014-04-30 22:58:00  40.7603 -73.9870  B02764   30        2    22\n",
      "564505 2014-04-30 22:58:00  40.7419 -73.9866  B02764   30        2    22\n",
      "564506 2014-04-30 23:00:00  40.7316 -73.9891  B02764   30        2    23\n",
      "564507 2014-04-30 23:04:00  40.7267 -73.9937  B02764   30        2    23\n",
      "564508 2014-04-30 23:05:00  40.7788 -73.9600  B02764   30        2    23\n",
      "564509 2014-04-30 23:15:00  40.7420 -74.0037  B02764   30        2    23\n",
      "564510 2014-04-30 23:18:00  40.7514 -74.0066  B02764   30        2    23\n",
      "564511 2014-04-30 23:22:00  40.7640 -73.9744  B02764   30        2    23\n",
      "564512 2014-04-30 23:26:00  40.7629 -73.9672  B02764   30        2    23\n",
      "564513 2014-04-30 23:31:00  40.7443 -73.9889  B02764   30        2    23\n",
      "564514 2014-04-30 23:32:00  40.6756 -73.9405  B02764   30        2    23\n",
      "564515 2014-04-30 23:48:00  40.6880 -73.9608  B02764   30        2    23\n",
      "\n",
      "[564516 rows x 7 columns]\n"
     ]
    }
   ],
   "source": [
    "print(data)"
   ]
  },
  {
   "cell_type": "code",
   "execution_count": 16,
   "metadata": {},
   "outputs": [
    {
     "name": "stdout",
     "output_type": "stream",
     "text": [
      "(1,                  Date/Time      Lat      Lon    Base  dom  weekday  Hour\n",
      "0      2014-04-01 00:11:00  40.7690 -73.9549  B02512    1        1     0\n",
      "1      2014-04-01 00:17:00  40.7267 -74.0345  B02512    1        1     0\n",
      "2      2014-04-01 00:21:00  40.7316 -73.9873  B02512    1        1     0\n",
      "3      2014-04-01 00:28:00  40.7588 -73.9776  B02512    1        1     0\n",
      "4      2014-04-01 00:33:00  40.7594 -73.9722  B02512    1        1     0\n",
      "5      2014-04-01 00:33:00  40.7383 -74.0403  B02512    1        1     0\n",
      "6      2014-04-01 00:39:00  40.7223 -73.9887  B02512    1        1     0\n",
      "7      2014-04-01 00:45:00  40.7620 -73.9790  B02512    1        1     0\n",
      "8      2014-04-01 00:55:00  40.7524 -73.9960  B02512    1        1     0\n",
      "9      2014-04-01 01:01:00  40.7575 -73.9846  B02512    1        1     1\n",
      "10     2014-04-01 01:19:00  40.7256 -73.9869  B02512    1        1     1\n",
      "11     2014-04-01 01:48:00  40.7591 -73.9684  B02512    1        1     1\n",
      "12     2014-04-01 01:49:00  40.7271 -73.9803  B02512    1        1     1\n",
      "13     2014-04-01 02:11:00  40.6463 -73.7896  B02512    1        1     2\n",
      "14     2014-04-01 02:25:00  40.7564 -73.9167  B02512    1        1     2\n",
      "15     2014-04-01 02:31:00  40.7666 -73.9531  B02512    1        1     2\n",
      "16     2014-04-01 02:43:00  40.7580 -73.9761  B02512    1        1     2\n",
      "17     2014-04-01 03:22:00  40.7238 -73.9821  B02512    1        1     3\n",
      "18     2014-04-01 03:35:00  40.7531 -74.0039  B02512    1        1     3\n",
      "19     2014-04-01 03:35:00  40.7389 -74.0393  B02512    1        1     3\n",
      "20     2014-04-01 03:41:00  40.7619 -73.9715  B02512    1        1     3\n",
      "21     2014-04-01 04:11:00  40.7530 -74.0042  B02512    1        1     4\n",
      "22     2014-04-01 04:15:00  40.6561 -73.9531  B02512    1        1     4\n",
      "23     2014-04-01 04:19:00  40.7250 -73.9844  B02512    1        1     4\n",
      "24     2014-04-01 04:20:00  40.6950 -74.1783  B02512    1        1     4\n",
      "25     2014-04-01 04:26:00  40.9859 -74.1578  B02512    1        1     4\n",
      "26     2014-04-01 04:27:00  40.6879 -74.1814  B02512    1        1     4\n",
      "27     2014-04-01 04:38:00  40.6878 -74.1816  B02512    1        1     4\n",
      "28     2014-04-01 04:47:00  40.7234 -73.9974  B02512    1        1     4\n",
      "29     2014-04-01 04:49:00  40.7336 -73.9900  B02512    1        1     4\n",
      "...                    ...      ...      ...     ...  ...      ...   ...\n",
      "554901 2014-04-01 21:10:00  40.7298 -74.0008  B02764    1        1    21\n",
      "554902 2014-04-01 21:10:00  40.7528 -73.9925  B02764    1        1    21\n",
      "554903 2014-04-01 21:10:00  40.7362 -73.9980  B02764    1        1    21\n",
      "554904 2014-04-01 21:14:00  40.7367 -73.9929  B02764    1        1    21\n",
      "554905 2014-04-01 21:31:00  40.7235 -74.0107  B02764    1        1    21\n",
      "554906 2014-04-01 21:36:00  40.7537 -73.9810  B02764    1        1    21\n",
      "554907 2014-04-01 21:36:00  40.7669 -73.9908  B02764    1        1    21\n",
      "554908 2014-04-01 21:37:00  40.7445 -73.9908  B02764    1        1    21\n",
      "554909 2014-04-01 21:44:00  40.7209 -74.0086  B02764    1        1    21\n",
      "554910 2014-04-01 21:44:00  40.7436 -73.9809  B02764    1        1    21\n",
      "554911 2014-04-01 21:44:00  40.7623 -73.9656  B02764    1        1    21\n",
      "554912 2014-04-01 21:48:00  40.7739 -73.9582  B02764    1        1    21\n",
      "554913 2014-04-01 21:50:00  40.7572 -73.9719  B02764    1        1    21\n",
      "554914 2014-04-01 21:53:00  40.7561 -73.9909  B02764    1        1    21\n",
      "554915 2014-04-01 22:05:00  40.7353 -74.0018  B02764    1        1    22\n",
      "554916 2014-04-01 22:15:00  40.7685 -73.8625  B02764    1        1    22\n",
      "554917 2014-04-01 22:17:00  40.7437 -73.9880  B02764    1        1    22\n",
      "554918 2014-04-01 22:22:00  40.6918 -74.1770  B02764    1        1    22\n",
      "554919 2014-04-01 22:34:00  40.7330 -73.9945  B02764    1        1    22\n",
      "554920 2014-04-01 22:42:00  40.7464 -73.9939  B02764    1        1    22\n",
      "554921 2014-04-01 22:43:00  40.7695 -73.9649  B02764    1        1    22\n",
      "554922 2014-04-01 22:49:00  40.7629 -73.9812  B02764    1        1    22\n",
      "554923 2014-04-01 22:56:00  40.7531 -73.9686  B02764    1        1    22\n",
      "554924 2014-04-01 23:00:00  40.7402 -74.0059  B02764    1        1    23\n",
      "554925 2014-04-01 23:02:00  40.8061 -73.9633  B02764    1        1    23\n",
      "554926 2014-04-01 23:21:00  40.7219 -73.9920  B02764    1        1    23\n",
      "554927 2014-04-01 23:25:00  40.7261 -74.0027  B02764    1        1    23\n",
      "554928 2014-04-01 23:38:00  40.7364 -73.9926  B02764    1        1    23\n",
      "554929 2014-04-01 23:41:00  40.7149 -73.9405  B02764    1        1    23\n",
      "554930 2014-04-01 23:46:00  40.7493 -73.9768  B02764    1        1    23\n",
      "\n",
      "[14546 rows x 7 columns])\n"
     ]
    }
   ],
   "source": [
    "for k, rows in data.groupby('dom'):\n",
    "    print((k, rows))\n",
    "    break"
   ]
  },
  {
   "cell_type": "code",
   "execution_count": 17,
   "metadata": {},
   "outputs": [],
   "source": [
    "def count_rows(rows):\n",
    "    return len(rows)\n",
    "by_date = data.groupby('dom').apply(count_rows)"
   ]
  },
  {
   "cell_type": "code",
   "execution_count": 18,
   "metadata": {},
   "outputs": [
    {
     "data": {
      "text/plain": [
       "dom\n",
       "1     14546\n",
       "2     17474\n",
       "3     20701\n",
       "4     26714\n",
       "5     19521\n",
       "6     13445\n",
       "7     19550\n",
       "8     16188\n",
       "9     16843\n",
       "10    20041\n",
       "11    20420\n",
       "12    18170\n",
       "13    12112\n",
       "14    12674\n",
       "15    20641\n",
       "16    17717\n",
       "17    20973\n",
       "18    18074\n",
       "19    14602\n",
       "20    11017\n",
       "21    13162\n",
       "22    16975\n",
       "23    20346\n",
       "24    23352\n",
       "25    25095\n",
       "26    24925\n",
       "27    14677\n",
       "28    15475\n",
       "29    22835\n",
       "30    36251\n",
       "dtype: int64"
      ]
     },
     "execution_count": 18,
     "metadata": {},
     "output_type": "execute_result"
    }
   ],
   "source": [
    "by_date"
   ]
  },
  {
   "cell_type": "code",
   "execution_count": 19,
   "metadata": {},
   "outputs": [
    {
     "data": {
      "text/plain": [
       "<BarContainer object of 30 artists>"
      ]
     },
     "execution_count": 19,
     "metadata": {},
     "output_type": "execute_result"
    },
    {
     "data": {
      "image/png": "[encoded data removed]",
      "text/plain": [
       "<Figure size 432x288 with 1 Axes>"
      ]
     },
     "metadata": {
      "needs_background": "light"
     },
     "output_type": "display_data"
    }
   ],
   "source": [
    "bar(range(1,31), by_date)"
   ]
  },
  {
   "cell_type": "code",
   "execution_count": 20,
   "metadata": {},
   "outputs": [
    {
     "data": {
      "text/plain": [
       "[<matplotlib.lines.Line2D at 0x246f45e8908>]"
      ]
     },
     "execution_count": 20,
     "metadata": {},
     "output_type": "execute_result"
    },
    {
     "data": {
      "image/png": "[encoded data removed]",
      "text/plain": [
       "<Figure size 432x288 with 1 Axes>"
      ]
     },
     "metadata": {
      "needs_background": "light"
     },
     "output_type": "display_data"
    }
   ],
   "source": [
    "plot(by_date)"
   ]
  },
  {
   "cell_type": "code",
   "execution_count": 22,
   "metadata": {},
   "outputs": [
    {
     "data": {
      "text/plain": [
       "dom\n",
       "20    11017\n",
       "13    12112\n",
       "14    12674\n",
       "21    13162\n",
       "6     13445\n",
       "1     14546\n",
       "19    14602\n",
       "27    14677\n",
       "28    15475\n",
       "8     16188\n",
       "9     16843\n",
       "22    16975\n",
       "2     17474\n",
       "16    17717\n",
       "18    18074\n",
       "12    18170\n",
       "5     19521\n",
       "7     19550\n",
       "10    20041\n",
       "23    20346\n",
       "11    20420\n",
       "15    20641\n",
       "3     20701\n",
       "17    20973\n",
       "29    22835\n",
       "24    23352\n",
       "26    24925\n",
       "25    25095\n",
       "4     26714\n",
       "30    36251\n",
       "dtype: int64"
      ]
     },
     "execution_count": 22,
     "metadata": {},
     "output_type": "execute_result"
    }
   ],
   "source": [
    "by_date_sorted = by_date.sort_values()\n",
    "by_date_sorted"
   ]
  },
  {
   "cell_type": "code",
   "execution_count": 27,
   "metadata": {},
   "outputs": [
    {
     "data": {
      "text/plain": [
       "''"
      ]
     },
     "execution_count": 27,
     "metadata": {},
     "output_type": "execute_result"
    },
    {
     "data": {
      "image/png": "[encoded data removed]",
      "text/plain": [
       "<Figure size 432x288 with 1 Axes>"
      ]
     },
     "metadata": {
      "needs_background": "light"
     },
     "output_type": "display_data"
    }
   ],
   "source": [
    "bar(range(1,31), by_date_sorted)\n",
    "xticks(range(1,31), by_date_sorted.index)\n",
    "xlabel('Date of the Month')\n",
    "ylabel('Frequency')\n",
    "title('Frequency by DOM-UBER-APR 2014')\n",
    ";"
   ]
  },
  {
   "cell_type": "code",
   "execution_count": 32,
   "metadata": {},
   "outputs": [
    {
     "data": {
      "text/plain": [
       "([<matplotlib.axis.XTick at 0x246f555dda0>,\n",
       "  <matplotlib.axis.XTick at 0x246f555d9e8>,\n",
       "  <matplotlib.axis.XTick at 0x246f555d0f0>,\n",
       "  <matplotlib.axis.XTick at 0x246f5614978>,\n",
       "  <matplotlib.axis.XTick at 0x246f5614e10>,\n",
       "  <matplotlib.axis.XTick at 0x246f561b320>,\n",
       "  <matplotlib.axis.XTick at 0x246f561b7f0>],\n",
       " <a list of 7 Text xticklabel objects>)"
      ]
     },
     "execution_count": 32,
     "metadata": {},
     "output_type": "execute_result"
    },
    {
     "data": {
      "image/png": "[encoded data removed]",
      "text/plain": [
       "<Figure size 432x288 with 1 Axes>"
      ]
     },
     "metadata": {
      "needs_background": "light"
     },
     "output_type": "display_data"
    }
   ],
   "source": [
    "hist(data.weekday, bins=7, rwidth=0.8, range=(-0.5, 6.5), color=\"red\")\n",
    "xticks(range(7), 'Mon Tue Wed Thurs Fri Sat Sun'. split())\n"
   ]
  },
  {
   "cell_type": "markdown",
   "metadata": {},
   "source": [
    "# cross analysis"
   ]
  },
  {
   "cell_type": "code",
   "execution_count": 34,
   "metadata": {},
   "outputs": [],
   "source": [
    "by_cross = data.groupby('weekday Hour'.split()).apply(count_rows).unstack()"
   ]
  },
  {
   "cell_type": "code",
   "execution_count": 35,
   "metadata": {},
   "outputs": [
    {
     "data": {
      "text/plain": [
       "<matplotlib.axes._subplots.AxesSubplot at 0x246f6679e10>"
      ]
     },
     "execution_count": 35,
     "metadata": {},
     "output_type": "execute_result"
    },
    {
     "data": {
      "image/png": "[encoded data removed]",
      "text/plain": [
       "<Figure size 432x288 with 2 Axes>"
      ]
     },
     "metadata": {
      "needs_background": "light"
     },
     "output_type": "display_data"
    }
   ],
   "source": [
    "seaborn.heatmap()"
   ]
  },
  {
   "cell_type": "code",
   "execution_count": null,
   "metadata": {},
   "outputs": [],
   "source": []
  }
 ],
 "metadata": {
  "kernelspec": {
   "display_name": "Python 3",
   "language": "python",
   "name": "python3"
  },
  "language_info": {
   "codemirror_mode": {
    "name": "ipython",
    "version": 3
   },
   "file_extension": ".py",
   "mimetype": "text/x-python",
   "name": "python",
   "nbconvert_exporter": "python",
   "pygments_lexer": "ipython3",
   "version": "3.7.0"
  }
 },
 "nbformat": 4,
 "nbformat_minor": 2
}
